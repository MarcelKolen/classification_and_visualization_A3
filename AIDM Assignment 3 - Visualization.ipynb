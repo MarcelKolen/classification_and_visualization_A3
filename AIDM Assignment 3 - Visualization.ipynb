{
 "cells": [
  {
   "cell_type": "markdown",
   "id": "8bbe3b15",
   "metadata": {},
   "source": [
    "# Assignment 3\n",
    "## JuPyter Notebook - Verschuur L. 1811053, Kolenbrander M. 1653415"
   ]
  },
  {
   "cell_type": "code",
   "execution_count": null,
   "id": "88a6682b",
   "metadata": {},
   "outputs": [],
   "source": [
    "from utility_functions import *\n",
    "\n",
    "## Parameters\n",
    "\n",
    "# Convert numeric values into ranged representations\n",
    "convert_to_range = True\n",
    "# Represent ranges as categorical values or rounded to nearest base value: 12, b=5 -> 10-14\n",
    "range_categorical = False\n",
    "# Convert categorical values (not from ranged values) into one hot representations:\n",
    "# {'smoking': ['sometimes', 'regularly', 'sometimes', 'never']} -> \n",
    "# {'smoking_sometimes': [1, 0, 1, 0], 'smoking_regularly': [0, 1, 0, 0], 'smoking_never': [0, 0, 0, 1]}\n",
    "convert_categorical_to_one_hot = True"
   ]
  },
  {
   "cell_type": "markdown",
   "id": "b470f4a4",
   "metadata": {},
   "source": [
    "## Data fetching & Data pre-processing"
   ]
  },
  {
   "cell_type": "code",
   "execution_count": null,
   "id": "868f0b8a",
   "metadata": {
    "scrolled": true
   },
   "outputs": [],
   "source": [
    "import pandas as pd\n",
    "import numpy as np\n",
    "\n",
    "file_path = \"healthcare-dataset-stroke-data.csv\"\n",
    "\n",
    "# Fetching CSV and converting to data frame\n",
    "data_file = pd.read_csv(file_path, header=0)\n",
    "\n",
    "# Drop all entries with nan values\n",
    "data_file = data_file.dropna()\n",
    "\n",
    "# Convert interval and ratio variables into ranges\n",
    "if convert_to_range and range_categorical:\n",
    "    data_file.insert(data_file.columns.get_loc(\"age\"), \"ranged_age\", [floor_range(age, 10) for age in data_file[\"age\"]])\n",
    "    data_file.insert(data_file.columns.get_loc(\"avg_glucose_level\"), \"ranged_avg_glucose_level\", [floor_range(avg_glucose_level, 25) for avg_glucose_level in data_file[\"avg_glucose_level\"]])\n",
    "    data_file.insert(data_file.columns.get_loc(\"bmi\"), \"ranged_bmi\", [floor_range(bmi, 2) for bmi in data_file[\"bmi\"]])\n",
    "elif convert_to_range and not range_categorical:\n",
    "    data_file.insert(data_file.columns.get_loc(\"age\"), \"ranged_age\", [round_to_base(age, 10) for age in data_file[\"age\"]])\n",
    "    data_file.insert(data_file.columns.get_loc(\"avg_glucose_level\"), \"ranged_avg_glucose_level\", [round_to_base(avg_glucose_level, 25) for avg_glucose_level in data_file[\"avg_glucose_level\"]])\n",
    "    data_file.insert(data_file.columns.get_loc(\"bmi\"), \"ranged_bmi\", [round_to_base(bmi, 2) for bmi in data_file[\"bmi\"]])\n",
    "\n",
    "data_file.insert(data_file.columns.get_loc(\"bmi\"), \"rounded_bmi\", data_file[\"bmi\"].round(0))\n",
    "    \n",
    "# Convert \"boolean\" variables into true boolean variables\n",
    "data_file[\"hypertension\"] = data_file[\"hypertension\"].astype(\"bool\")\n",
    "data_file[\"heart_disease\"] = data_file[\"heart_disease\"].astype(\"bool\")\n",
    "data_file[\"stroke\"] = data_file[\"stroke\"].astype(\"bool\")\n",
    "data_file[\"ever_married\"] = np.where(data_file[\"ever_married\"] == \"Yes\", True, False).astype(\"bool\")\n",
    "    \n",
    "# Convert categorical variables into a one-hot representation\n",
    "if convert_categorical_to_one_hot:\n",
    "    data_file = pd.concat([data_file, pd.get_dummies(data_file[\"gender\"], prefix=\"gender\")], axis=1)\n",
    "    data_file = pd.concat([data_file, pd.get_dummies(data_file[\"work_type\"], prefix=\"work_type\")], axis=1)\n",
    "    data_file = pd.concat([data_file, pd.get_dummies(data_file[\"Residence_type\"], prefix=\"Residence_type\")], axis=1)\n",
    "    data_file = pd.concat([data_file, pd.get_dummies(data_file[\"smoking_status\"], prefix=\"smoking_status\")], axis=1)\n",
    "    \n",
    "data_file.head()"
   ]
  },
  {
   "cell_type": "markdown",
   "id": "3cfb408e",
   "metadata": {},
   "source": [
    "## Visualization"
   ]
  },
  {
   "cell_type": "markdown",
   "id": "63eecf34",
   "metadata": {},
   "source": [
    "### Preparing the data\n",
    "**Applied algorithms on this dataset**\n",
    "- SKLearn Principal component analysis\n",
    "- SKLearn Locally Linear Embedding\n",
    "- SKLearn T-distributed Stochastic Neighbor Embedding"
   ]
  },
  {
   "cell_type": "code",
   "execution_count": null,
   "id": "38bb8554",
   "metadata": {},
   "outputs": [],
   "source": [
    "from sklearn.preprocessing import StandardScaler\n",
    "\n",
    "# Decision Variables\n",
    "x = data_file.loc[:,[\"ranged_age\", \"hypertension\", \"heart_disease\", \"ever_married\", \"ranged_avg_glucose_level\", \"rounded_bmi\", *fetch_columns_on_name_list(data_file, [\"work_type\"])]].values\n",
    "\n",
    "x = StandardScaler().fit_transform(x)\n",
    "\n",
    "feat_cols = ['feature' + str(i) for i in range(x.shape[1])]\n",
    "normalised_data = pd.DataFrame(x, columns=feat_cols)"
   ]
  },
  {
   "cell_type": "markdown",
   "id": "67363141",
   "metadata": {},
   "source": [
    "### Creation of PCA components"
   ]
  },
  {
   "cell_type": "code",
   "execution_count": null,
   "id": "c6552bfa",
   "metadata": {},
   "outputs": [],
   "source": [
    "from sklearn.decomposition import PCA\n",
    "\n",
    "PCA_construct = PCA(n_components=2)\n",
    "pca_data = PCA_construct.fit_transform(x)\n",
    "\n",
    "# Decision Variables\n",
    "pca_data_df = pd.DataFrame(data = pca_data, columns = ['principal component 1', 'principal component 2'])\n",
    "# Target Variable\n",
    "target_data_df = pd.DataFrame(data = data_file[\"stroke\"])\n",
    "\n",
    "#Concatenated dataframe for use\n",
    "pca_final_df = pd.concat([pca_data_df, target_data_df], axis = 1)"
   ]
  },
  {
   "cell_type": "markdown",
   "id": "f3fd6918",
   "metadata": {},
   "source": [
    "#### Visualize the PCA data"
   ]
  },
  {
   "cell_type": "code",
   "execution_count": null,
   "id": "dfa3c87e",
   "metadata": {},
   "outputs": [],
   "source": [
    "plot_result(pca_final_df, \"principal component 1\", \"principal component 2\", \"stroke\", \"2 Component PCA\")"
   ]
  },
  {
   "cell_type": "markdown",
   "id": "cf640b9e",
   "metadata": {},
   "source": [
    "### Creation of LLE components"
   ]
  },
  {
   "cell_type": "code",
   "execution_count": null,
   "id": "1d756a04",
   "metadata": {},
   "outputs": [],
   "source": [
    "from sklearn.manifold import LocallyLinearEmbedding\n",
    "\n",
    "LLE_construct = LocallyLinearEmbedding(n_components=2, eigen_solver='dense')\n",
    "lle_data = LLE_construct.fit_transform(x)\n",
    "\n",
    "# Decision Variables\n",
    "lle_data_df = pd.DataFrame(data = lle_data, columns = ['LLE component 1', 'LLE component 2'])\n",
    "# Target Variable\n",
    "target_data_df = pd.DataFrame(data = data_file[\"stroke\"])\n",
    "\n",
    "#Concatenated dataframe for use\n",
    "lle_final_df = pd.concat([lle_data_df, target_data_df], axis = 1)"
   ]
  },
  {
   "cell_type": "markdown",
   "id": "a5b3a772",
   "metadata": {},
   "source": [
    "#### Visualize the LLE data"
   ]
  },
  {
   "cell_type": "code",
   "execution_count": null,
   "id": "b41a698d",
   "metadata": {},
   "outputs": [],
   "source": [
    "plot_result(lle_final_df, \"LLE component 1\", \"LLE component 2\", \"stroke\", \"2 Component LLE\")"
   ]
  },
  {
   "cell_type": "markdown",
   "id": "545ff63e",
   "metadata": {},
   "source": [
    "### Creation of t-SNE components"
   ]
  },
  {
   "cell_type": "code",
   "execution_count": null,
   "id": "ddd9e550",
   "metadata": {},
   "outputs": [],
   "source": [
    "from sklearn.manifold import TSNE\n",
    "\n",
    "TSNE_construct = TSNE(n_components=2)\n",
    "tsne_data = TSNE_construct.fit_transform(x)\n",
    "\n",
    "# Decision Variables\n",
    "tsne_data_df = pd.DataFrame(data = tsne_data, columns = ['t-sne component 1', 't-sne component 2'])\n",
    "# Target Variable\n",
    "target_data_df = pd.DataFrame(data = data_file[\"stroke\"])\n",
    "\n",
    "#Concatenated dataframe for use\n",
    "tsne_final_df = pd.concat([tsne_data_df, target_data_df], axis = 1)"
   ]
  },
  {
   "cell_type": "markdown",
   "id": "4a28dfc1",
   "metadata": {},
   "source": [
    "#### Visualize the t-sne data"
   ]
  },
  {
   "cell_type": "code",
   "execution_count": null,
   "id": "b2358371",
   "metadata": {},
   "outputs": [],
   "source": [
    "plot_result(tsne_final_df, \"t-sne component 1\", \"t-sne component 2\", \"stroke\", \"2 Component t-sne\")"
   ]
  },
  {
   "cell_type": "code",
   "execution_count": null,
   "id": "90babe39",
   "metadata": {},
   "outputs": [],
   "source": []
  }
 ],
 "metadata": {
  "kernelspec": {
   "display_name": "Python 3",
   "language": "python",
   "name": "python3"
  },
  "language_info": {
   "codemirror_mode": {
    "name": "ipython",
    "version": 3
   },
   "file_extension": ".py",
   "mimetype": "text/x-python",
   "name": "python",
   "nbconvert_exporter": "python",
   "pygments_lexer": "ipython3",
   "version": "3.8.8"
  }
 },
 "nbformat": 4,
 "nbformat_minor": 5
}
