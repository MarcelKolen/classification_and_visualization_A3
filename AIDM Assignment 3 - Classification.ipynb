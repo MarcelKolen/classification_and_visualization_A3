{
 "cells": [
  {
   "cell_type": "markdown",
   "id": "8bbe3b15",
   "metadata": {},
   "source": [
    "# Assignment 3\n",
    "## JuPyter Notebook - Verschuur L. 1811053, Kolenbrander M. 1653415"
   ]
  },
  {
   "cell_type": "code",
   "execution_count": null,
   "id": "88a6682b",
   "metadata": {},
   "outputs": [],
   "source": [
    "from utility_functions import *\n",
    "\n",
    "## Parameters\n",
    "\n",
    "# Convert numeric values into ranged representations\n",
    "convert_to_range = True\n",
    "# Represent ranges as categorical values or rounded to nearest base value: 12, b=5 -> 10-14\n",
    "range_categorical = False\n",
    "# Convert categorical values (not from ranged values) into one hot representations:\n",
    "# {'smoking': ['sometimes', 'regularly', 'sometimes', 'never']} -> \n",
    "# {'smoking_sometimes': [1, 0, 1, 0], 'smoking_regularly': [0, 1, 0, 0], 'smoking_never': [0, 0, 0, 1]}\n",
    "convert_categorical_to_one_hot = True"
   ]
  },
  {
   "cell_type": "markdown",
   "id": "b470f4a4",
   "metadata": {},
   "source": [
    "## Data fetching & Data pre-processing"
   ]
  },
  {
   "cell_type": "code",
   "execution_count": null,
   "id": "868f0b8a",
   "metadata": {},
   "outputs": [],
   "source": [
    "import pandas as pd\n",
    "import numpy as np\n",
    "\n",
    "file_path = \"healthcare-dataset-stroke-data.csv\"\n",
    "\n",
    "# Fetching CSV and converting to data frame\n",
    "data_file = pd.read_csv(file_path, header=0)\n",
    "\n",
    "# Drop all entries with nan values\n",
    "data_file = data_file.dropna()\n",
    "\n",
    "# Convert interval and ratio variables into ranges\n",
    "if convert_to_range and range_categorical:\n",
    "    data_file.insert(data_file.columns.get_loc(\"age\"), \"ranged_age\", [floor_range(age, 10) for age in data_file[\"age\"]])\n",
    "    data_file.insert(data_file.columns.get_loc(\"avg_glucose_level\"), \"ranged_avg_glucose_level\", [floor_range(avg_glucose_level, 25) for avg_glucose_level in data_file[\"avg_glucose_level\"]])\n",
    "    data_file.insert(data_file.columns.get_loc(\"bmi\"), \"ranged_bmi\", [floor_range(bmi, 2) for bmi in data_file[\"bmi\"]])\n",
    "elif convert_to_range and not range_categorical:\n",
    "    data_file.insert(data_file.columns.get_loc(\"age\"), \"ranged_age\", [round_to_base(age, 10) for age in data_file[\"age\"]])\n",
    "    data_file.insert(data_file.columns.get_loc(\"avg_glucose_level\"), \"ranged_avg_glucose_level\", [round_to_base(avg_glucose_level, 25) for avg_glucose_level in data_file[\"avg_glucose_level\"]])\n",
    "    data_file.insert(data_file.columns.get_loc(\"bmi\"), \"ranged_bmi\", [round_to_base(bmi, 2) for bmi in data_file[\"bmi\"]])\n",
    "\n",
    "data_file.insert(data_file.columns.get_loc(\"bmi\"), \"rounded_bmi\", data_file[\"bmi\"].round(0))\n",
    "    \n",
    "# Convert \"boolean\" variables into true boolean variables\n",
    "data_file[\"hypertension\"] = data_file[\"hypertension\"].astype(\"bool\")\n",
    "data_file[\"heart_disease\"] = data_file[\"heart_disease\"].astype(\"bool\")\n",
    "data_file[\"stroke\"] = data_file[\"stroke\"].astype(\"bool\")\n",
    "data_file[\"ever_married\"] = np.where(data_file[\"ever_married\"] == \"Yes\", True, False).astype(\"bool\")\n",
    "    \n",
    "# Convert categorical variables into a one-hot representation\n",
    "if convert_categorical_to_one_hot:\n",
    "    data_file = pd.concat([data_file, pd.get_dummies(data_file[\"gender\"], prefix=\"gender\")], axis=1)\n",
    "    data_file = pd.concat([data_file, pd.get_dummies(data_file[\"work_type\"], prefix=\"work_type\")], axis=1)\n",
    "    data_file = pd.concat([data_file, pd.get_dummies(data_file[\"Residence_type\"], prefix=\"Residence_type\")], axis=1)\n",
    "    data_file = pd.concat([data_file, pd.get_dummies(data_file[\"smoking_status\"], prefix=\"smoking_status\")], axis=1)\n",
    "    \n",
    "data_file.head()"
   ]
  },
  {
   "cell_type": "markdown",
   "id": "541c4f40",
   "metadata": {},
   "source": [
    "## Classification"
   ]
  },
  {
   "cell_type": "markdown",
   "id": "b3890208",
   "metadata": {},
   "source": [
    "### Test & Train set generation\n",
    "**Applied algorithms for this test and training set**\n",
    "- SKLearn Random Forest Classifier\n",
    "- SKLearn Support Vector Classification Classifier\n",
    "- XGBoost Classifier"
   ]
  },
  {
   "cell_type": "code",
   "execution_count": null,
   "id": "dfa3c87e",
   "metadata": {},
   "outputs": [],
   "source": [
    "from sklearn.model_selection import train_test_split\n",
    "from sklearn.preprocessing import StandardScaler\n",
    "\n",
    "# Decision Variables\n",
    "X = data_file.loc[:,[\"ranged_age\", \"hypertension\", \"heart_disease\", \"ever_married\", \"ranged_avg_glucose_level\", \"rounded_bmi\", *fetch_columns_on_name_list(data_file, [\"work_type\"])]].values\n",
    "# Target Variable\n",
    "y = data_file.loc[:,\"stroke\"].values\n",
    "\n",
    "# Split datasets into training and testing sets\n",
    "X_train, X_test, Y_train, Y_test = train_test_split(X, y, test_size=0.1)\n",
    "\n",
    "sc = StandardScaler()\n",
    "\n",
    "# Scale data for classifiers\n",
    "X_train_scaled = sc.fit_transform(X_train)\n",
    "X_test_scaled = sc.fit_transform(X_test)"
   ]
  },
  {
   "cell_type": "markdown",
   "id": "50115cbb",
   "metadata": {},
   "source": [
    "### Random Forest Classification training & testing"
   ]
  },
  {
   "cell_type": "code",
   "execution_count": null,
   "id": "5cfa9e67",
   "metadata": {},
   "outputs": [],
   "source": [
    "from sklearn.ensemble import RandomForestClassifier\n",
    "\n",
    "rf_classifier = RandomForestClassifier(n_estimators=150, n_jobs=-1)\n",
    "rf_classifier.fit(X_train_scaled, Y_train)"
   ]
  },
  {
   "cell_type": "markdown",
   "id": "39d60e95",
   "metadata": {},
   "source": [
    "#### Random Forest Classification report"
   ]
  },
  {
   "cell_type": "code",
   "execution_count": null,
   "id": "63be7f50",
   "metadata": {},
   "outputs": [],
   "source": [
    "from sklearn.metrics import accuracy_score, classification_report, confusion_matrix\n",
    "\n",
    "rf_y_prediction = rf_classifier.predict(X_test_scaled)\n",
    "\n",
    "print(\"# # # Classification report # # #\")\n",
    "print(classification_report(Y_test, rf_y_prediction))\n",
    "\n",
    "print(\"# # # Confusion matrix # # #\")\n",
    "print(confusion_matrix(Y_test, rf_y_prediction), \"\\n\")\n",
    "\n",
    "print(\"# # # Accuracy score # # #\")\n",
    "print(accuracy_score(Y_test, rf_y_prediction), \"\\n\")"
   ]
  },
  {
   "cell_type": "markdown",
   "id": "4936a889",
   "metadata": {},
   "source": [
    "### Support Vector Classification training & testing"
   ]
  },
  {
   "cell_type": "code",
   "execution_count": null,
   "id": "c787d7b5",
   "metadata": {},
   "outputs": [],
   "source": [
    "from sklearn.svm import SVC\n",
    "\n",
    "SV_classifier = SVC()\n",
    "SV_classifier.fit(X_train_scaled, Y_train)"
   ]
  },
  {
   "cell_type": "markdown",
   "id": "ff741874",
   "metadata": {},
   "source": [
    "#### Support Vector Classification report"
   ]
  },
  {
   "cell_type": "code",
   "execution_count": null,
   "id": "e030241d",
   "metadata": {},
   "outputs": [],
   "source": [
    "SV_y_prediction = SV_classifier.predict(X_test_scaled)\n",
    "\n",
    "print(\"# # # Classification report # # #\")\n",
    "print(classification_report(Y_test, SV_y_prediction))\n",
    "\n",
    "print(\"# # # Confusion matrix # # #\")\n",
    "print(confusion_matrix(Y_test, SV_y_prediction), \"\\n\")\n",
    "\n",
    "print(\"# # # Accuracy score # # #\")\n",
    "print(accuracy_score(Y_test, SV_y_prediction), \"\\n\")"
   ]
  },
  {
   "cell_type": "markdown",
   "id": "ee8d9c51",
   "metadata": {},
   "source": [
    "### XGBoost Classification training & testing"
   ]
  },
  {
   "cell_type": "code",
   "execution_count": null,
   "id": "482e1c75",
   "metadata": {},
   "outputs": [],
   "source": [
    "import xgboost as xgb\n",
    "\n",
    "XGB_classifier = xgb.XGBClassifier()\n",
    "XGB_classifier.fit(X_train_scaled, Y_train)"
   ]
  },
  {
   "cell_type": "markdown",
   "id": "e4bda645",
   "metadata": {},
   "source": [
    "#### XGBoost Classification report"
   ]
  },
  {
   "cell_type": "code",
   "execution_count": null,
   "id": "db2620f0",
   "metadata": {},
   "outputs": [],
   "source": [
    "XGB_y_prediction = XGB_classifier.predict(X_test_scaled)\n",
    "\n",
    "print(\"# # # Classification report # # #\")\n",
    "print(classification_report(Y_test, XGB_y_prediction))\n",
    "\n",
    "print(\"# # # Confusion matrix # # #\")\n",
    "print(confusion_matrix(Y_test, XGB_y_prediction), \"\\n\")\n",
    "\n",
    "print(\"# # # Accuracy score # # #\")\n",
    "print(accuracy_score(Y_test, XGB_y_prediction), \"\\n\")"
   ]
  },
  {
   "cell_type": "code",
   "execution_count": null,
   "id": "38bb8554",
   "metadata": {},
   "outputs": [],
   "source": []
  }
 ],
 "metadata": {
  "kernelspec": {
   "display_name": "Python 3",
   "language": "python",
   "name": "python3"
  },
  "language_info": {
   "codemirror_mode": {
    "name": "ipython",
    "version": 3
   },
   "file_extension": ".py",
   "mimetype": "text/x-python",
   "name": "python",
   "nbconvert_exporter": "python",
   "pygments_lexer": "ipython3",
   "version": "3.8.8"
  }
 },
 "nbformat": 4,
 "nbformat_minor": 5
}
